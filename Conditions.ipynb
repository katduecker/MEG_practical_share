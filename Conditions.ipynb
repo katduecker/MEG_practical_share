{
 "cells": [
  {
   "cell_type": "markdown",
   "metadata": {},
   "source": [
    "# Extracting condition-specific trials\n",
    "\n",
    "The aim of this section is to extract the trials according to the trigger channel. We will explain how the events can be generated from the stimulus channels and how to extract condition specific trials (epochs). Once the trials are extracted, bad epochs will be identified and excluded on based on their peak-to-peak signal amplitude.\n",
    "\n",
    "## Preparation\n",
    "\n",
    "Import the relevant Python modules:"
   ]
  },
  {
   "cell_type": "code",
   "execution_count": 1,
   "metadata": {},
   "outputs": [],
   "source": [
    "import os.path as op\n",
    "import os\n",
    "import sys\n",
    "import numpy as np\n",
    "\n",
    "import mne\n",
    "import matplotlib.pyplot as plt"
   ]
  },
  {
   "cell_type": "markdown",
   "metadata": {},
   "source": [
    "Set the paths for the data and results. Note that these will depend on your local setup."
   ]
  },
  {
   "cell_type": "code",
   "execution_count": 2,
   "metadata": {},
   "outputs": [],
   "source": [
    "data_path =  r'C:\\Users\\dueckerk\\Desktop\\Teaching\\TF\\MEG practical\\data'\n",
    "result_path =  r'C:\\Users\\dueckerk\\Desktop\\Teaching\\TF\\MEG practical\\data'\n",
    "\n",
    "file_name = 'training_raw'"
   ]
  },
  {
   "cell_type": "markdown",
   "metadata": {},
   "source": [
    "## Reading the events from the stimulus channels\n",
    "First read all the events from the stimulus channel (in our case, STI01). We will loop over the 2 fif-files created in the previous step."
   ]
  },
  {
   "cell_type": "code",
   "execution_count": 3,
   "metadata": {},
   "outputs": [
    {
     "name": "stdout",
     "output_type": "stream",
     "text": [
      "Opening raw data file C:\\Users\\dueckerk\\Desktop\\Teaching\\TF\\MEG practical\\data\\training_rawica-1.fif...\n"
     ]
    },
    {
     "name": "stderr",
     "output_type": "stream",
     "text": [
      "C:\\Users\\dueckerk\\AppData\\Local\\Temp\\ipykernel_20400\\3502531881.py:3: RuntimeWarning: This filename (C:\\Users\\dueckerk\\Desktop\\Teaching\\TF\\MEG practical\\data\\training_rawica-1.fif) does not conform to MNE naming conventions. All raw files should end with raw.fif, raw_sss.fif, raw_tsss.fif, _meg.fif, _eeg.fif, _ieeg.fif, raw.fif.gz, raw_sss.fif.gz, raw_tsss.fif.gz, _meg.fif.gz, _eeg.fif.gz or _ieeg.fif.gz\n",
      "  raw = mne.io.read_raw_fif(path_file,allow_maxshield=True,verbose=True,preload=True)\n"
     ]
    },
    {
     "name": "stdout",
     "output_type": "stream",
     "text": [
      "    Range : 208000 ... 1664999 =    208.000 ...  1664.999 secs\n",
      "Ready.\n",
      "Reading 0 ... 1456999  =      0.000 ...  1456.999 secs...\n",
      "694 events found\n",
      "Event IDs: [ 1  3  4  5 10 21 22 55 56]\n",
      "Opening raw data file C:\\Users\\dueckerk\\Desktop\\Teaching\\TF\\MEG practical\\data\\training_rawica-2.fif...\n",
      "    Range : 1665000 ... 3098999 =   1665.000 ...  3098.999 secs\n",
      "Ready.\n"
     ]
    },
    {
     "name": "stderr",
     "output_type": "stream",
     "text": [
      "C:\\Users\\dueckerk\\AppData\\Local\\Temp\\ipykernel_20400\\3502531881.py:9: RuntimeWarning: This filename (C:\\Users\\dueckerk\\Desktop\\Teaching\\TF\\MEG practical\\data\\training_raweve-1.fif) does not conform to MNE naming conventions. All events files should end with .eve, -eve.fif, -eve.fif.gz, -eve.lst, -eve.txt, _eve.fif, _eve.fif.gz, _eve.lst or _eve.txt\n",
      "  mne.write_events(filename_events,events)\n",
      "C:\\Users\\dueckerk\\AppData\\Local\\Temp\\ipykernel_20400\\3502531881.py:3: RuntimeWarning: This filename (C:\\Users\\dueckerk\\Desktop\\Teaching\\TF\\MEG practical\\data\\training_rawica-2.fif) does not conform to MNE naming conventions. All raw files should end with raw.fif, raw_sss.fif, raw_tsss.fif, _meg.fif, _eeg.fif, _ieeg.fif, raw.fif.gz, raw_sss.fif.gz, raw_tsss.fif.gz, _meg.fif.gz, _eeg.fif.gz or _ieeg.fif.gz\n",
      "  raw = mne.io.read_raw_fif(path_file,allow_maxshield=True,verbose=True,preload=True)\n"
     ]
    },
    {
     "name": "stdout",
     "output_type": "stream",
     "text": [
      "Reading 0 ... 1433999  =      0.000 ...  1433.999 secs...\n",
      "856 events found\n",
      "Event IDs: [ 1  3  4  5 10 21 22 55 56]\n"
     ]
    },
    {
     "name": "stderr",
     "output_type": "stream",
     "text": [
      "C:\\Users\\dueckerk\\AppData\\Local\\Temp\\ipykernel_20400\\3502531881.py:9: RuntimeWarning: This filename (C:\\Users\\dueckerk\\Desktop\\Teaching\\TF\\MEG practical\\data\\training_raweve-2.fif) does not conform to MNE naming conventions. All events files should end with .eve, -eve.fif, -eve.fif.gz, -eve.lst, -eve.txt, _eve.fif, _eve.fif.gz, _eve.lst or _eve.txt\n",
      "  mne.write_events(filename_events,events)\n"
     ]
    }
   ],
   "source": [
    "for subfile in range(1, 3):\n",
    "    path_file = os.path.join(result_path,file_name + 'ica-' + str(subfile) + '.fif') \n",
    "    raw = mne.io.read_raw_fif(path_file,allow_maxshield=True,verbose=True,preload=True)\n",
    "    events = mne.find_events(raw, stim_channel='STI101',min_duration=0.001001)\n",
    "    \n",
    "\n",
    "    # Save the events in a dedicted FIF-file: \n",
    "    filename_events = op.join(result_path,file_name + 'eve-' + str(subfile) +'.fif')\n",
    "    mne.write_events(filename_events,events)"
   ]
  },
  {
   "cell_type": "markdown",
   "metadata": {},
   "source": [
    "The code above extract the events from the trigger channel STI101. This results are represented in the array *events* where the first column is the sample and the third column the corresponding trigger value. Note that the events are concatenated across the 2 subfiles.\n",
    "\n",
    "To visualize a snippet of the events-array write:"
   ]
  },
  {
   "cell_type": "code",
   "execution_count": 9,
   "metadata": {},
   "outputs": [],
   "source": [
    "%matplotlib qt\n",
    "plt.stem(events[:,0],events[:,2])\n",
    "plt.xlim(1950000,2000000)\n",
    "plt.xlabel('samples')\n",
    "plt.ylabel('Trigger value (STI101)')\n",
    "plt.show()"
   ]
  },
  {
   "cell_type": "markdown",
   "metadata": {},
   "source": [
    "The figures shows an example for part of the events array. The trigger values indicate specific events of the trials. Here the 'attend left' trials are coded with the trigger '21', whereas the 'attend right' trials with '22'.\n"
   ]
  },
  {
   "cell_type": "markdown",
   "metadata": {},
   "source": [
    "## Defining the epochs (trials) according to the event values\n",
    "Next step is to extract the left and right trials "
   ]
  },
  {
   "cell_type": "code",
   "execution_count": 10,
   "metadata": {},
   "outputs": [
    {
     "name": "stdout",
     "output_type": "stream",
     "text": [
      "Opening raw data file C:\\Users\\dueckerk\\Desktop\\Teaching\\TF\\MEG practical\\data\\training_rawica-1.fif...\n",
      "    Range : 208000 ... 1664999 =    208.000 ...  1664.999 secs\n",
      "Ready.\n",
      "Opening raw data file C:\\Users\\dueckerk\\Desktop\\Teaching\\TF\\MEG practical\\data\\training_rawica-2.fif...\n",
      "    Range : 1665000 ... 3098999 =   1665.000 ...  3098.999 secs\n",
      "Ready.\n"
     ]
    },
    {
     "name": "stderr",
     "output_type": "stream",
     "text": [
      "C:\\Users\\dueckerk\\AppData\\Local\\Temp\\ipykernel_20400\\409200526.py:10: RuntimeWarning: This filename (C:\\Users\\dueckerk\\Desktop\\Teaching\\TF\\MEG practical\\data\\training_rawica-1.fif) does not conform to MNE naming conventions. All raw files should end with raw.fif, raw_sss.fif, raw_tsss.fif, _meg.fif, _eeg.fif, _ieeg.fif, raw.fif.gz, raw_sss.fif.gz, raw_tsss.fif.gz, _meg.fif.gz, _eeg.fif.gz or _ieeg.fif.gz\n",
      "  raw = mne.io.read_raw_fif(path_file, allow_maxshield=True,verbose=True)\n",
      "C:\\Users\\dueckerk\\AppData\\Local\\Temp\\ipykernel_20400\\409200526.py:14: RuntimeWarning: This filename (C:\\Users\\dueckerk\\Desktop\\Teaching\\TF\\MEG practical\\data\\training_raweve-1.fif) does not conform to MNE naming conventions. All events files should end with .eve, -eve.fif, -eve.fif.gz, -eve.lst, -eve.txt, _eve.fif, _eve.fif.gz, _eve.lst, _eve.txt or -annot.fif\n",
      "  events = mne.read_events(filename_events, verbose=True)\n",
      "C:\\Users\\dueckerk\\AppData\\Local\\Temp\\ipykernel_20400\\409200526.py:10: RuntimeWarning: This filename (C:\\Users\\dueckerk\\Desktop\\Teaching\\TF\\MEG practical\\data\\training_rawica-2.fif) does not conform to MNE naming conventions. All raw files should end with raw.fif, raw_sss.fif, raw_tsss.fif, _meg.fif, _eeg.fif, _ieeg.fif, raw.fif.gz, raw_sss.fif.gz, raw_tsss.fif.gz, _meg.fif.gz, _eeg.fif.gz or _ieeg.fif.gz\n",
      "  raw = mne.io.read_raw_fif(path_file, allow_maxshield=True,verbose=True)\n",
      "C:\\Users\\dueckerk\\AppData\\Local\\Temp\\ipykernel_20400\\409200526.py:14: RuntimeWarning: This filename (C:\\Users\\dueckerk\\Desktop\\Teaching\\TF\\MEG practical\\data\\training_raweve-2.fif) does not conform to MNE naming conventions. All events files should end with .eve, -eve.fif, -eve.fif.gz, -eve.lst, -eve.txt, _eve.fif, _eve.fif.gz, _eve.lst, _eve.txt or -annot.fif\n",
      "  events = mne.read_events(filename_events, verbose=True)\n"
     ]
    }
   ],
   "source": [
    "events_id = {'left':21,'right':22}\n",
    "\n",
    "raw_list = list()\n",
    "events_list = list()\n",
    "\n",
    "\n",
    "for subfile in range(1, 3):\n",
    "    # Read in the data from the Result path\n",
    "    path_file = os.path.join(result_path,file_name + 'ica-' + str(subfile) + '.fif') \n",
    "    raw = mne.io.read_raw_fif(path_file, allow_maxshield=True,verbose=True)\n",
    "    \n",
    "    filename_events = op.join(result_path,file_name + 'eve-' + str(subfile) +'.fif')\n",
    "    \n",
    "    events = mne.read_events(filename_events, verbose=True)\n",
    "                \n",
    "    raw_list.append(raw)\n",
    "    events_list.append(events)\n"
   ]
  },
  {
   "cell_type": "markdown",
   "metadata": {},
   "source": [
    "Now concatenate raw instances as if they were continuous - i.e combine over the 2 subfiles."
   ]
  },
  {
   "cell_type": "code",
   "execution_count": 11,
   "metadata": {},
   "outputs": [],
   "source": [
    "raw, events = mne.concatenate_raws(raw_list,events_list=events_list)\n",
    "del raw_list "
   ]
  },
  {
   "cell_type": "markdown",
   "metadata": {},
   "source": [
    "Set the peak-to-peak amplitude thresholds for trial rejection. These values may change depending on the quality of the data."
   ]
  },
  {
   "cell_type": "code",
   "execution_count": 12,
   "metadata": {},
   "outputs": [],
   "source": [
    "reject = dict(grad=5000e-13,    # T / m (gradiometers)\n",
    "              mag=5e-12,        # T (magnetometers)\n",
    "              #eeg=200e-6,       # V (EEG channels)\n",
    "              #eog=150e-6        # V (EOG channels)\n",
    "              )"
   ]
  },
  {
   "cell_type": "markdown",
   "metadata": {},
   "source": [
    "We will use time-windows of interest starting 2.5 s prior to the stimulus onset and ending 2 s after. Now perform the epoching using the events and events_id as well as the selected channels:"
   ]
  },
  {
   "cell_type": "code",
   "execution_count": 13,
   "metadata": {},
   "outputs": [
    {
     "name": "stdout",
     "output_type": "stream",
     "text": [
      "Not setting metadata\n",
      "312 matching events found\n",
      "No baseline correction applied\n",
      "0 projection items activated\n",
      "Loading data for 312 events and 4501 original time points ...\n",
      "    Rejecting  epoch based on MAG : ['MEG2611']\n",
      "56 bad epochs dropped\n"
     ]
    },
    {
     "data": {
      "text/html": [
       "<table class=\"table table-hover table-striped table-sm table-responsive small\">\n",
       "    <tr>\n",
       "        <th>Number of events</th>\n",
       "        <td>256</td>\n",
       "    </tr>\n",
       "    <tr>\n",
       "        <th>Events</th>\n",
       "        \n",
       "        <td>left: 130<br/>right: 126</td>\n",
       "        \n",
       "    </tr>\n",
       "    <tr>\n",
       "        <th>Time range</th>\n",
       "        <td>-2.500 – 2.000 sec</td>\n",
       "    </tr>\n",
       "    <tr>\n",
       "        <th>Baseline</th>\n",
       "        <td>off</td>\n",
       "    </tr>\n",
       "</table>"
      ],
      "text/plain": [
       "<Epochs |  256 events (all good), -2.5 - 2 sec, baseline off, ~2.95 GB, data loaded,\n",
       " 'left': 130\n",
       " 'right': 126>"
      ]
     },
     "execution_count": 13,
     "metadata": {},
     "output_type": "execute_result"
    }
   ],
   "source": [
    "epochs = mne.Epochs(raw,\n",
    "            events, events_id,\n",
    "            tmin=-2.5 , tmax=2,\n",
    "            baseline=None,\n",
    "            proj=True,\n",
    "            picks = 'all',\n",
    "            detrend = 1,\n",
    "            reject=reject,\n",
    "            reject_by_annotation=True,\n",
    "            preload=True,\n",
    "            verbose=True)\n",
    "\n",
    "# Show epochs details\n",
    "epochs"
   ]
  },
  {
   "cell_type": "markdown",
   "metadata": {},
   "source": [
    "By calling *epochs* we can check that the number of events is 305 of which 152 are left attention trials and 153 right attention trials. Moreover, we can see that no baseline correction was applied at this stage.\n",
    "\n",
    "Now we plot an overview of the rejected epochs:"
   ]
  },
  {
   "cell_type": "code",
   "execution_count": null,
   "metadata": {},
   "outputs": [],
   "source": [
    "epochs.plot_drop_log();"
   ]
  },
  {
   "cell_type": "markdown",
   "metadata": {},
   "source": [
    "A few percent of the trials were rejected due to MEG artifacts in the magnetometers."
   ]
  },
  {
   "cell_type": "markdown",
   "metadata": {},
   "source": [
    "Now we save the epoched data in an FIF-file. Note this file will include trials from the 2 subfiles."
   ]
  },
  {
   "cell_type": "code",
   "execution_count": null,
   "metadata": {},
   "outputs": [],
   "source": [
    "path_outfile = os.path.join(result_path,'training_epo.fif') \n",
    "epochs.save(path_outfile,overwrite=True)"
   ]
  },
  {
   "cell_type": "markdown",
   "metadata": {},
   "source": [
    "## Plotting the trials\n",
    "To show the trials for the left-condition for the MEG gradiometers write:"
   ]
  },
  {
   "cell_type": "code",
   "execution_count": null,
   "metadata": {},
   "outputs": [],
   "source": [
    "%matplotlib inline\n",
    "epochs['left'].plot(n_epochs=10,picks=['grad']);"
   ]
  },
  {
   "cell_type": "markdown",
   "metadata": {},
   "source": [
    "The plot above shows 10 trials of type left; only gradiometers shown.\n",
    "\n",
    "To show the trigger (stimulus channels) write:"
   ]
  },
  {
   "cell_type": "code",
   "execution_count": null,
   "metadata": {},
   "outputs": [],
   "source": [
    "%matplotlib inline\n",
    "epochs['left'].plot(n_epochs=1,picks=['stim']);"
   ]
  },
  {
   "cell_type": "markdown",
   "metadata": {},
   "source": [
    "An example of the trigger channels for one trial.\n",
    "\n",
    "Showing the trigger channels is often useful for verifying that correct trials have been selected. Note that STI001 to STI016 denote the individual trigger lines which are 'on' (1) or 'off' (0). The channel STI101 is a combination of the trigger lines ( STI101 = STI001 + 2 * STI002 + 4 * STI003 + 8 * STI004 + ...)\n",
    "\n",
    "To show all the trials belonging to *left* for a representative gradiometer (MEG2343) use the plot_image function. In the following example we also lowpass filter the indvidual trials at 30 Hz and shorten them (crop) to a -100 to 400 ms interval:"
   ]
  },
  {
   "cell_type": "code",
   "execution_count": null,
   "metadata": {},
   "outputs": [
    {
     "name": "stdout",
     "output_type": "stream",
     "text": [
      "Setting up low-pass filter at 30 Hz\n",
      "\n",
      "FIR filter parameters\n",
      "---------------------\n",
      "Designing a one-pass, zero-phase, non-causal lowpass filter:\n",
      "- Windowed time-domain design (firwin) method\n",
      "- Hamming window with 0.0194 passband ripple and 53 dB stopband attenuation\n",
      "- Upper passband edge: 30.00 Hz\n",
      "- Upper transition bandwidth: 7.50 Hz (-6 dB cutoff frequency: 33.75 Hz)\n",
      "- Filter length: 441 samples (0.441 sec)\n",
      "\n"
     ]
    },
    {
     "name": "stderr",
     "output_type": "stream",
     "text": [
      "[Parallel(n_jobs=1)]: Using backend SequentialBackend with 1 concurrent workers.\n",
      "[Parallel(n_jobs=1)]: Done   1 out of   1 | elapsed:    0.0s remaining:    0.0s\n",
      "[Parallel(n_jobs=1)]: Done   2 out of   2 | elapsed:    0.0s remaining:    0.0s\n",
      "[Parallel(n_jobs=1)]: Done   3 out of   3 | elapsed:    0.0s remaining:    0.0s\n",
      "[Parallel(n_jobs=1)]: Done   4 out of   4 | elapsed:    0.0s remaining:    0.0s\n"
     ]
    }
   ],
   "source": [
    "%matplotlib inline\n",
    "epochs['left'].filter(0.0,30).crop(-0.1,0.4).plot_image(picks=['MEG2343'],vmin=-150,vmax=150);"
   ]
  },
  {
   "cell_type": "markdown",
   "metadata": {},
   "source": [
    "## Preregistration and publications\n",
    "\n",
    "Publication, example:\n",
    "\n",
    "\"The data were segmented into intervals of 4.5 s, ranging from 2.5 s prior to stimulus onset and 2 s after. To ensure that no artefacts were missed, trials in which the gradiometers values exceeded 5000 fT/cm or magnetometers exceeded 5000 fT were rejected as well as trials previously annotated with muscle artefacts.\"\n"
   ]
  }
 ],
 "metadata": {
  "kernelspec": {
   "display_name": "Python 3 (ipykernel)",
   "language": "python",
   "name": "python3"
  },
  "language_info": {
   "codemirror_mode": {
    "name": "ipython",
    "version": 3
   },
   "file_extension": ".py",
   "mimetype": "text/x-python",
   "name": "python",
   "nbconvert_exporter": "python",
   "pygments_lexer": "ipython3",
   "version": "3.10.6"
  }
 },
 "nbformat": 4,
 "nbformat_minor": 2
}
